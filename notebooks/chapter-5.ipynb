{
 "cells": [
  {
   "cell_type": "markdown",
   "metadata": {},
   "source": [
    "## Problem 1\n",
    "\n",
    "The Nernst equation (equation 5.4)\n",
    "\n",
    "$$E=\\frac{V_T}{z}\\ln\\left(\\frac{[\\text{outside}]}{[\\text{inside}]}\\right)$$\n",
    "\n",
    "was derived in chapter 5 under the assumption that the membrane potential was negative and the ion being considered was positively charged. Rederive this result for a negatively charged ion and for the case when E is positive to verify that it applies in all these cases."
   ]
  },
  {
   "cell_type": "markdown",
   "metadata": {},
   "source": [
    "### Solution\n",
    "\n",
    "The case where $z<0$ and $V>0$ follows the exact same proof as in the book.\n",
    "\n",
    "In the case where $z$ and $V$ have the same sign, we must consider ions with thermal energies greater than or equal to $zqV$, which is $\\exp(-zqV / k_BT)=\\exp(-zFV/RT)=\\exp(-zE /V_T)$. Since ions are flowing _into_ the cell instead of out of it in this case, we obtain\n",
    "\n",
    "$$[\\text{outside}]\\exp(-zE /V_T)=[\\text{inside}]$$\n",
    "\n",
    "This reduces to equation 5.4 by solving for $E$."
   ]
  },
  {
   "cell_type": "markdown",
   "metadata": {},
   "source": [
    "## Problem 2\n",
    "\n",
    "Verify that equation 5.47\n",
    "\n",
    "$$V(t)=V_\\infty+(V(t_0)-V_\\infty)\\exp(-(t-t_0)/\\tau_V)$$\n",
    "\n",
    "is a solution of equation 5.46\n",
    "\n",
    "$$\\tau_V\\frac{dV}{dt}=V_\\infty-V$$\n",
    "\n",
    "when $V_\\infty$ is independent of time. Then, solve equation 5.46 for the case when $V_\\infty$ is an arbitrary function of time. In this solution, $V(t)$ is expressed in terms of integrals involving $V_\\infty(t)$."
   ]
  },
  {
   "cell_type": "markdown",
   "metadata": {},
   "source": [
    "### Solution\n",
    "\n",
    "$$\\tau_V\\frac{dV}{dt}=V_\\infty-V \\implies \\frac{dV}{V-V_\\infty}=-\\frac{dt}{\\tau_V}$$\n",
    "$$\\implies \\left.\\ln(V-V_\\infty)\\right|_{t_0}^t=\\ln\\left(\\frac{V(t)-V_\\infty}{V(t_0)-V_\\infty}\\right)=-\\frac{(t-t_0)}{\\tau_V}$$\n",
    "$$\\implies V(t)-V_\\infty = (V(t_0)-V_\\infty)\\exp(-(t-t_0)/\\tau_V)$$\n",
    "$$\\implies V(t)=V_\\infty+(V(t_0)-V_\\infty)\\exp(-(t-t_0)/\\tau_V)$$"
   ]
  },
  {
   "cell_type": "markdown",
   "metadata": {},
   "source": [
    "## Problem 3\n",
    "\n",
    "Build a model integrate-and-fire neuron from equation 5.8.\n",
    "\n",
    "$$\\tau_m\\frac{dV}{dt}=E_L-V+R_mI_e$$\n",
    "\n",
    "Use $V_\\text{rest} = -70$ mV, $R_m = 10 M\\Omega$, and $\\tau_m = 10$ ms. Initially set $V = V_\\text{rest}$. When the membrane potential reaches $V_\\text{th} = -54$ mV, make the neuron fire a spike and reset the potential to $V_\\text{reset} = -80$ mV. Show sample voltage traces (with spikes) for a 300-ms-long current pulse (choose a reasonable current $I_e$) centered in a 500-ms-long simulation. Determine the firing rate of the model for various magnitudes of constant $I_e$ and compare the results with equation 5.11.\n",
    "\n",
    "$$r_\\text{isi}=\\frac{1}{t_\\text{isi}}=\\left(\\tau_m\\ln\\left(\\frac{R_m I_e + E_L -V_\\text{reset}}{R_mI_e+E_L-V_\\text{th}}\\right)\\right)^{-1}$$"
   ]
  },
  {
   "cell_type": "markdown",
   "metadata": {},
   "source": [
    "### Solution"
   ]
  },
  {
   "cell_type": "code",
   "execution_count": 17,
   "metadata": {},
   "outputs": [],
   "source": [
    "function V = IFNeuron(V_rest, V_th, V_reset, V_spike, R_m, tau_m, I_e, dt, sra_params)\n",
    "    if ~exist('sra_params', 'var') || isempty(sra_params)\n",
    "      sra_params = [0, 0, 0, 0];\n",
    "    end\n",
    "    tau_sra = sra_params(1);\n",
    "    dg_sra = sra_params(2);\n",
    "    V_sra = sra_params(3);\n",
    "    \n",
    "    if tau_sra == 0 || dg_sra == 0\n",
    "        tau_sra = 0;\n",
    "        dg_sra = 0;\n",
    "    end\n",
    "    \n",
    "    V = [V_rest];\n",
    "    g_sra = 0;\n",
    "    for I = I_e\n",
    "        if V(end) == V_spike\n",
    "            V = [V, V_reset];\n",
    "            continue;\n",
    "        end\n",
    "        \n",
    "        V_diff = V_rest - V(end) + R_m*I;\n",
    "        if tau_sra != 0\n",
    "            g_sra = g_sra - dt * g_sra / tau_sra;\n",
    "            V_diff = V_diff - g_sra * (V(end) - V_sra);\n",
    "        end\n",
    "        \n",
    "        V_next = V(end) + dt * V_diff / tau_m;\n",
    "        if V_next >= V_th\n",
    "            V_next = V_spike;\n",
    "            g_sra = g_sra + dg_sra;\n",
    "        end\n",
    "        V = [V, V_next];\n",
    "    end\n",
    "endfunction"
   ]
  },
  {
   "cell_type": "code",
   "execution_count": 15,
   "metadata": {},
   "outputs": [
    {
     "data": {
      "image/png": "[encoded data removed]",
      "text/plain": [
       "<IPython.core.display.Image object>"
      ]
     },
     "metadata": {},
     "output_type": "display_data"
    },
    {
     "data": {
      "image/png": "[encoded data removed]",
      "text/plain": [
       "<IPython.core.display.Image object>"
      ]
     },
     "metadata": {},
     "output_type": "display_data"
    }
   ],
   "source": [
    "V_rest = -70e-3;\n",
    "V_th = -54e-3;\n",
    "V_reset = -80e-3;\n",
    "V_spike = 0;\n",
    "R_m = 10e6;\n",
    "tau_m = 10e-3;\n",
    "dt = 1e-3;\n",
    "\n",
    "currents = 1e-9 * (1:0.1:5);\n",
    "stim = [zeros(1, 100), ones(1, 300), zeros(1, 100)];\n",
    "spike_counts = [];\n",
    "for I_e = currents\n",
    "    V = IFNeuron(V_rest, V_th, V_reset, V_spike, R_m, tau_m, stim * I_e, dt);\n",
    "    spike_counts = [spike_counts, sum(V==V_spike)];\n",
    "\n",
    "    if abs(I_e - 2e-9) < 1e-11\n",
    "        figure()\n",
    "        plot(0:(size(V, 2) - 1), V * 1e3);\n",
    "        title([\"I_e = \", num2str(I_e * 1e9), \"nA\"]);\n",
    "        xlabel('t (ms)');\n",
    "        ylabel('V (mV)');\n",
    "    endif\n",
    "end\n",
    "\n",
    "r_isi = 1./(tau_m*log((R_m*currents + V_rest - V_reset)./(R_m*currents + V_rest - V_th)));\n",
    "r_isi = (R_m*currents > V_th - V_reset) .* r_isi;\n",
    "\n",
    "figure()\n",
    "plot(currents * 1e9, spike_counts / (dt * sum(stim)));\n",
    "hold on\n",
    "plot(currents * 1e9, r_isi);\n",
    "hold off\n",
    "title('I_e vs firing rate');\n",
    "xlabel('I_e (nA)');\n",
    "ylabel('Firing rate');\n",
    "legend('Simulated', 'Predicted');"
   ]
  },
  {
   "cell_type": "markdown",
   "metadata": {},
   "source": [
    "## Problem 4\n",
    "\n",
    "Include an extra current in the integrate-and-fire model to introduce spike-rate adaptation, as described in equations 5.13\n",
    "\n",
    "$$\\tau_m\\frac{dV}{dt}=E_L-V-r_mg_\\text{sra}(V-E_K)+R_mI_e$$\n",
    "\n",
    "and 5.14,\n",
    "\n",
    "$$\\tau_\\text{sra}\\frac{dg_\\text{sra}}{dt}=-g_\\text{sra}$$\n",
    "\n",
    "and in the caption to figure 5.6."
   ]
  },
  {
   "cell_type": "markdown",
   "metadata": {},
   "source": [
    "### Solution"
   ]
  },
  {
   "cell_type": "code",
   "execution_count": 25,
   "metadata": {},
   "outputs": [
    {
     "data": {
      "image/png": "[encoded data removed]",
      "text/plain": [
       "<IPython.core.display.Image object>"
      ]
     },
     "metadata": {},
     "output_type": "display_data"
    },
    {
     "data": {
      "image/png": "[encoded data removed]",
      "text/plain": [
       "<IPython.core.display.Image object>"
      ]
     },
     "metadata": {},
     "output_type": "display_data"
    }
   ],
   "source": [
    "V_rest = -70e-3;\n",
    "V_th = -54e-3;\n",
    "V_reset = -80e-3;\n",
    "V_spike = 0;\n",
    "R_m = 10e6;\n",
    "tau_m = 10e-3;\n",
    "dt = 1e-3;\n",
    "sra_params = [0.1, 100e-3, -70e-3];\n",
    "\n",
    "currents = 1e-9 * (1:0.1:5);\n",
    "stim = [zeros(1, 100), ones(1, 300), zeros(1, 100)];\n",
    "spike_counts = [];\n",
    "for I_e = currents\n",
    "    V = IFNeuron(V_rest, V_th, V_reset, V_spike, R_m, tau_m, stim * I_e, dt, sra_params);\n",
    "    spike_counts = [spike_counts, sum(V==V_spike)];\n",
    "\n",
    "    if abs(I_e - 2e-9) < 1e-11\n",
    "        figure()\n",
    "        plot(0:(size(V, 2) - 1), V * 1e3);\n",
    "        title([\"I_e = \", num2str(I_e * 1e9), \"nA\"]);\n",
    "        xlabel('t (ms)');\n",
    "        ylabel('V (mV)');\n",
    "    endif\n",
    "end\n",
    "\n",
    "figure()\n",
    "plot(currents * 1e9, spike_counts / (dt * sum(stim)));\n",
    "title('I_e vs firing rate');\n",
    "xlabel('I_e (nA)');\n",
    "ylabel('Firing rate');"
   ]
  },
  {
   "cell_type": "markdown",
   "metadata": {},
   "source": [
    "### Problem 5\n",
    "\n",
    "Add an excitatory synaptic conductance to the integrate-and-fire neuron of exercise 3 by adding the extra synaptic conductance term in equation 5.43\n",
    "\n",
    "$$\\tau_m\\frac{dV}{dt}=E_L-V-r_m\\bar{g}_sP_s(V-E_s)+R_mI_e$$\n",
    "\n",
    "with $E_s = 0$. Set the external current to zero, $I_e = 0$, in this example, and assume that the probability of release on receipt of a presynaptic spike is 1. Use $r_m\\bar{g}_s = 0.5$ and describe $P_s$ using the alpha function of equation 5.35 with $\\tau_s = 10$ ms and $P_\\text{max} = 0.5$. To incorporate multiple presynaptic spikes, $P_s$ should be described by a pair of differential equations,\n",
    "\n",
    "$$\\tau_s\\frac{dP_s}{dt}=eP_\\text{max}z-P_s$$\n",
    "\n",
    "with $e = \\exp(1)$, and\n",
    "\n",
    "$$\\tau_s\\frac{dz}{dt} = -z$$,\n",
    "\n",
    "with the additional rule that $z$ is set to 1 whenever a presynaptic spike arrives. Plot V(t) in one graph and the synaptic current in another. Trigger synaptic events at times 50, 150, 190, 300, 320, 400, and 410 ms. Explain what you see."
   ]
  },
  {
   "cell_type": "markdown",
   "metadata": {},
   "source": [
    "### Solution\n",
    "\n",
    "TODO"
   ]
  },
  {
   "cell_type": "markdown",
   "metadata": {},
   "source": [
    "### Problem 6\n",
    "\n",
    "The equations in exercise 5 generate an α function response to a single input spike, but they do not prevent P s from growing greater than 1 when the model synapse is driven by multiple spikes at a sufficiently high frequency. In other words, this model synapse does not saturate. To introduce saturation, modify the equations of exercise 5 to\n",
    "\n",
    "$$\\tau_s\\frac{dP_s}{dt} = e P_\\text{max}z(1 − P_s) − P_s$$\n",
    "\n",
    "with $e = \\exp(1)$, and\n",
    "\n",
    "$$\\tau_s\\frac{dz}{dt} = -z$$,\n",
    "\n",
    "with the additional rule that $z$ is set to 1 whenever a presynaptic spike arrives. Compare $P_s(t)$ computed using these equations with $P_s(t)$ computed using the equations of exercise 5 for constant rate, regular (periodic) presynaptic spike trains with frequencies ranging from 1 to 100 Hz. In both cases, use $\\tau_s = 10$ ms and $P_\\text{max} = 0.5$."
   ]
  },
  {
   "cell_type": "markdown",
   "metadata": {},
   "source": [
    "### Solution\n",
    "\n",
    "TODO"
   ]
  },
  {
   "cell_type": "markdown",
   "metadata": {},
   "source": [
    "## Problem 7\n",
    "\n",
    "Construct a model of two coupled integrate-and-fire neurons similar to that of figure 5.20. Both model neurons obey equation 5.43\n",
    "\n",
    "$$\\tau_m\\frac{dV}{dt}=E_L-V-r_m\\bar{g}_sP_s(V-E_s)+R_mI_e$$\n",
    "\n",
    "with $E_L = -70$ mV, $V_\\text{th} = 54$ mV, $V_\\text{reset} = -80$ mV, $\\tau_m = 20$ ms, $r_m g_s = 0.15$, and $R_mI e = 18$ mV. Both synapses should be described as in exercise 5 with $P_\\text{max} = 0.5$ and $\\tau_s = 10$ ms. Consider cases where both synapses are excitatory, with $E_s = 0$ mV, and both are inhibitory, with $E_s = -80$ mV. Show how the pattern of firing for the two neurons depends on the type (excitatory or inhibitory) of the reciprocal synaptic connections. For these simulations, set the initial membrane voltages of the two neurons to slightly different values, randomly, and run the simulation until an equilibrium situation has been reached, which may take a few seconds of simulated run time. Start from a few different random initial conditions to study whether the results are consistent. Investigate what happens if you change the strengths and time constants of the reciprocal synapses."
   ]
  },
  {
   "cell_type": "markdown",
   "metadata": {},
   "source": [
    "### Solution\n",
    "\n",
    "TODO"
   ]
  },
  {
   "cell_type": "markdown",
   "metadata": {},
   "source": [
    "## Problem 8\n",
    "\n",
    "Build a Hodgkin-Huxley model neuron by numerically integrating the equations for $V$, $m$, $h$, and $n$ given in chapter 5 (see, in particular equations 5.6,\n",
    "\n",
    "$$c_m\\frac{dV}{dt}=-i_m+\\frac{I_e}{A}$$\n",
    "\n",
    "5.17–5.19,\n",
    "\n",
    "$$\\tau_n(V)\\frac{dn}{dt}=n_\\infty(V)-n$$\n",
    "$$\\tau_n(V)=\\frac{1}{\\alpha_n(V)+\\beta_n(V)}$$\n",
    "$$n_\\infty(V)=\\frac{\\alpha_n(V)}{\\alpha_n(V)+\\beta_n(V)}$$\n",
    "\n",
    "5.22,\n",
    "$$\\alpha_n=\\frac{0.01(V+55)}{1-\\exp(-0.1(V+55))}\\,\\text{ and }\\,\\beta_n=0.125\\exp(-0.0125(V+65))$$\n",
    "\n",
    "5.24,\n",
    "$$\\alpha_m=\\frac{0.1(V+40)}{1-\\exp(-0.1(V+40))}\\,\\text{ }\\,\\beta_m=4\\exp(-0.0556(V+65))$$\n",
    "$$\\alpha_h=0.07\\exp(-0.05(V+65))\\,\\text{ }\\,\\beta_h=1/(1+\\exp(-0.1(V+35)))$$\n",
    "\n",
    "and 5.25).\n",
    "$$i_m=\\bar{g}_L(V-E_L)+\\bar{g}_Kn^4(V-E_K)+\\bar{g}_\\text{Na}m^3h(V-E_\\text{Na})$$\n",
    "\n",
    "\n",
    "Take $c_m = 10$ nF/mm$^2$ , and as initial values take: $V = -65$ mV, $m = 0.0529$, $h = 0.5961$, and $n = 0.3177$. Use an integration time step of 0.1 ms. Use an external current with $I_e/A = 200$ nA/mm$^2$ and plot $V$, $m$, $h$, and $n$ as functions of time for a suitable interval. Also, plot the firing rate of the model as a function of $I_e/A$ over the range from 0 to 500 nA/mm$^2$ . Show that the firing rate jumps discontinuously from zero to a finite value when the current passes through the minimum value required to produce sustained firing. Finally, apply a pulse of negative current with $I_e/A = -50$ nA/mm$^2$ for 5 ms followed by $I_e/A = 0$ and show what happens."
   ]
  },
  {
   "cell_type": "markdown",
   "metadata": {},
   "source": [
    "### Solution\n",
    "\n",
    "TODO"
   ]
  },
  {
   "cell_type": "markdown",
   "metadata": {},
   "source": [
    "## Problem 9\n",
    "\n",
    "Construct and simulate the K$^+$ channel model of figure 5.12. Plot the mean squared deviation between the current produced by $N$ such model channels and the Hodgkin-Huxley current as a function of $N$ over the range $1 \\le N \\le 100$, matching the amplitude of the Hodgkin-Huxley model so that the mean currents are the same."
   ]
  },
  {
   "cell_type": "markdown",
   "metadata": {},
   "source": [
    "### Solution\n",
    "\n",
    "TODO"
   ]
  },
  {
   "cell_type": "markdown",
   "metadata": {},
   "source": [
    "## Problem 10\n",
    "\n",
    "Compute analytically the value of the release probability $P_\\text{rel}$ just before the time of each presynaptic spike for a regular (periodic rather than Poisson), constant-frequency presynaptic spike train as a function of the presynaptic firing rate. Do this for both the depression and facilitation models described by equation 5.37.\n",
    "\n",
    "$$\\tau_P\\frac{dP_\\text{rel}}{dt}=P_0-P_\\text{rel}$$"
   ]
  },
  {
   "cell_type": "markdown",
   "metadata": {},
   "source": [
    "### Solution\n",
    "\n",
    "TODO"
   ]
  },
  {
   "cell_type": "code",
   "execution_count": null,
   "metadata": {},
   "outputs": [],
   "source": []
  }
 ],
 "metadata": {
  "kernelspec": {
   "display_name": "Octave",
   "language": "octave",
   "name": "octave"
  },
  "language_info": {
   "file_extension": ".m",
   "help_links": [
    {
     "text": "GNU Octave",
     "url": "https://www.gnu.org/software/octave/support.html"
    },
    {
     "text": "Octave Kernel",
     "url": "https://github.com/Calysto/octave_kernel"
    },
    {
     "text": "MetaKernel Magics",
     "url": "https://metakernel.readthedocs.io/en/latest/source/README.html"
    }
   ],
   "mimetype": "text/x-octave",
   "name": "octave",
   "version": "4.2.2"
  }
 },
 "nbformat": 4,
 "nbformat_minor": 4
}
