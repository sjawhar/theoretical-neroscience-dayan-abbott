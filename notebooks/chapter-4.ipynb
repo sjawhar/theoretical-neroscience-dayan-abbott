{
 "cells": [
  {
   "cell_type": "markdown",
   "metadata": {},
   "source": [
    "## Problem 1\n",
    "\n",
    "Show that the firing-rate distribution that maximizes the entropy when the firing rate is constrained to lie in the range $0 \\le r \\le r_\\text{max}$ is given by\n",
    "\n",
    "$$p[r]=\\frac{1}{r_\\text{max}}$$\n",
    "\n",
    "and that its entropy for a fixed resolution $\\Delta r$ is given by\n",
    "\n",
    "$$H=\\log_2r_\\text{max}-\\log_2\\Delta r=\\log_2\\left(\\frac{r_\\text{max}}{\\Delta r}\\right)$$\n",
    "\n",
    "Use a Lagrange multiplier (see the Mathematical Appendix) to constrain the integral of $p[r]$ to one."
   ]
  },
  {
   "cell_type": "markdown",
   "metadata": {},
   "source": [
    "### Solution\n",
    "Let $f(r)=\\int_0^{r_\\text{max}}dr\\,p[r]$, subject to the constraint $f(r)=1$. Then, using a Lagrange multiplier,\n",
    "\n",
    "$$\\frac{dH}{dr} + \\lambda\\frac{df}{dr}=-p[r]\\log_2{p[r]}+\\lambda p[r]=0\\implies \\lambda=\\log_2{p[r]}\\implies p[r]=2^\\lambda=c$$\n",
    "\n",
    "$p[r]$ is therefore a constant $c$. Since its integral must equal one, $p[r]$ must equal $\\boxed{ 1/r_\\text{max} }$.\n",
    "\n",
    "For fixed resolution,\n",
    "\n",
    "$$H=-\\sum p[r]\\Delta r\\log_2{p[r]}-\\log_2{\\Delta r}=-\\sum p[r]\\Delta r\\log_2{\\frac{1}{r_\\text{max}}}-\\log_2{\\Delta r}$$\n",
    "$$=\\log_2{r_\\text{max}}\\sum p[r]\\Delta r-\\log_2{\\Delta r}=\\log_2{r_\\text{max}}-\\log_2{\\Delta r}$$\n",
    "$$=\\boxed{ \\log_2\\left(\\frac{r_\\text{max}}{\\Delta r}\\right) }$$"
   ]
  },
  {
   "cell_type": "markdown",
   "metadata": {},
   "source": [
    "## Problem 2\n",
    "\n",
    "Show that the firing-rate distribution that maximizes the entropy when the mean of the firing rate is held fixed is an exponential, and compute its entropy for a fixed resolution $\\Delta r$. Assume that the firing rate can fall anywhere in the range from 0 to $\\infty$. Use Lagrange multipliers (see the Mathematical Appendix) to constrain the integral of $p[r]$ to 1 and the integral of $p[r]r$ to the fixed average firing rate."
   ]
  },
  {
   "cell_type": "markdown",
   "metadata": {},
   "source": [
    "### Solution\n",
    "\n",
    "Let $f(r)=\\int_0^\\infty dr\\,p[r]$ and $g(r)=\\int_0^\\infty dr\\,p[r] r$. Then, using Lagrange multipliers and the constraints $f(r)=1$ and $g(r)=\\langle r \\rangle$\n",
    "\n",
    "$$\\frac{dH}{dr} + \\lambda\\frac{df}{dr}+\\mu\\frac{dg}{dr}=-p[r]\\log_2{p[r]}+\\lambda p[r]+\\mu p[r]r=0$$"
   ]
  },
  {
   "cell_type": "markdown",
   "metadata": {},
   "source": [
    "$$\\implies p[r](-\\log_2{p[r]}+\\lambda+\\mu r)=0$$"
   ]
  },
  {
   "cell_type": "markdown",
   "metadata": {},
   "source": [
    "$$\\implies p[r]=2^{\\lambda+\\mu r}=2^\\lambda 2^{\\mu r}$$"
   ]
  },
  {
   "cell_type": "markdown",
   "metadata": {},
   "source": [
    "$$\\implies f(r)=\\int_0^\\infty dr\\,2^\\lambda 2^{\\mu r}=-\\frac{2^\\lambda}{\\mu\\ln 2}=1,\n",
    "g(r)=\\int_0^\\infty dr\\,2^\\lambda 2^{\\mu r}r=\\frac{2^\\lambda}{(\\mu \\ln 2)^2}=\\langle r \\rangle$$"
   ]
  },
  {
   "cell_type": "markdown",
   "metadata": {},
   "source": [
    "$$\\implies \\mu = -\\frac{1}{\\langle r \\rangle\\ln 2}$$\n",
    "$$2^\\lambda = -\\mu\\ln 2=1/\\langle r \\rangle$$"
   ]
  },
  {
   "cell_type": "markdown",
   "metadata": {},
   "source": [
    "$$\\implies p[r]=\\frac{1}{\\langle r \\rangle}2^{-r/(\\langle r \\rangle\\ln 2)}\n",
    "=\\boxed{ \\frac{1}{\\langle r \\rangle}e^{-r/\\langle r \\rangle} }$$"
   ]
  },
  {
   "cell_type": "markdown",
   "metadata": {},
   "source": [
    "For fixed resolution $\\Delta r$,\n",
    "\n",
    "$$H=-\\sum p[r]\\Delta r\\log_2{p[r]}-\\log_2{\\Delta r}=-\\sum\\frac{1}{\\langle r \\rangle}e^{-r/\\langle r \\rangle}\\Delta r\\log_2\\left(\\frac{1}{\\langle r \\rangle}e^{-r/\\langle r \\rangle}\\right)-\\log_2\\Delta r$$"
   ]
  },
  {
   "cell_type": "markdown",
   "metadata": {},
   "source": [
    "$$=-\\sum\\frac{1}{\\langle r \\rangle}e^{-r/\\langle r \\rangle}\\Delta r\\left(-\\log_2\\langle r\\rangle+\\log_2e^{-r/\\langle r\\rangle}\\right)-\\log_2\\Delta r$$"
   ]
  },
  {
   "cell_type": "markdown",
   "metadata": {},
   "source": [
    "$$=\\log_2\\langle r\\rangle\\sum\\frac{1}{\\langle r\\rangle}e^{-r/\\langle r\\rangle}\\Delta r + \\frac{1}{\\langle r\\rangle \\ln 2}\\sum \\frac{1}{\\langle r\\rangle}e^{-r/\\langle r\\rangle}r\\Delta r -\\log_2\\Delta r$$"
   ]
  },
  {
   "cell_type": "markdown",
   "metadata": {},
   "source": [
    "$$=\\boxed{ \\log_2\\left(\\frac{\\langle r\\rangle e}{\\Delta r}\\right) }$$"
   ]
  },
  {
   "cell_type": "markdown",
   "metadata": {},
   "source": [
    "## Problem 3\n",
    "\n",
    "Show that the distribution that maximizes the entropy when the mean and variance of the firing rate are held fixed is a Gaussian, and compute its entropy for a fixed resolution $\\Delta r$. To simplify the mathematics, allow the firing rate to take any value between $-\\infty$ and $+\\infty$. Use Lagrange multipliers (see the Mathematical Appendix) to constrain the integral of $p[r]$ to 1, the integral of $p[r]r$ to the fixed average firing rate $\\langle r\\rangle$, and the integral of $p[r](r - \\langle r\\rangle)^2$ to the fixed variance."
   ]
  },
  {
   "cell_type": "markdown",
   "metadata": {},
   "source": [
    "### Solution\n",
    "Let $f(r)=\\int_{-\\infty}^\\infty dr\\,p[r]$, $g(r)=\\int_{-\\infty}^\\infty dr\\,p[r] r$, and $h(r)=\\int_{-\\infty}^\\infty p[r](r - \\langle r\\rangle)^2$. Then, using Lagrange multipliers and the constraints $f(r)=1$, $g(r)=\\langle r \\rangle$, and $h(r)=\\sigma^2$\n",
    "\n",
    "$$\\frac{dH}{dr} + \\lambda'\\frac{df}{dr}-\\mu'\\frac{dg}{dr}-\\nu'\\frac{dh}{dr}=-p[r]\\log_2{p[r]}+\\lambda' p[r]-\\mu' p[r]r-\\nu' p[r](r - \\langle r\\rangle)^2=0$$"
   ]
  },
  {
   "cell_type": "markdown",
   "metadata": {},
   "source": [
    "$$\\implies p[r]\\left(-\\frac{\\ln{p[r]}}{\\ln 2}+\\lambda'-\\mu' r-\\nu'(r-\\langle r \\rangle)^2\\right)=0$$\n",
    "$$\\implies p[r]=e^{\\ln{2}\\,\\lambda'-\\ln 2\\,\\mu' r-\\ln 2\\,\\nu'(r-\\langle r \\rangle)^2}=e^{\\lambda}e^{-\\mu r}e^{-\\nu(r-\\langle r \\rangle)^2}$$"
   ]
  },
  {
   "cell_type": "markdown",
   "metadata": {},
   "source": [
    "For clarity, it was assumed $\\mu'$ and $\\nu'$ are positive and they are subtracted rather than added in the above formula. This is a necessary condition for the following integrals to converge. Also, since they are constants, we can define $\\lambda$, $\\mu$, and $\\nu$ to absorb the annoying $\\ln{2}$ factor."
   ]
  },
  {
   "cell_type": "markdown",
   "metadata": {},
   "source": [
    "$$\\implies f(r)=\\int_{-\\infty}^\\infty dr\\,e^{\\lambda}e^{-\\mu r}e^{-\\nu(r-\\langle r \\rangle)^2}=e^\\lambda\\sqrt{\\frac{\\pi}{\\nu}}e^\\frac{\\mu^2}{4\\nu}e^{-\\mu\\langle r\\rangle}=1$$"
   ]
  },
  {
   "cell_type": "markdown",
   "metadata": {},
   "source": [
    "$$\\implies g(r)=\\int_{-\\infty}^\\infty dr\\,e^{\\lambda}e^{-\\mu r}e^{-\\nu(r-\\langle r \\rangle)^2}r=\\frac{2\\mu\\langle r\\rangle-\\mu}{2\\nu}e^\\lambda\\sqrt{\\frac{\\pi}{\\nu}}e^\\frac{\\mu^2}{4\\nu}e^{-\\mu\\langle r\\rangle}=\\langle r\\rangle-\\frac{\\mu}{2\\nu}=\\langle r\\rangle$$\n",
    "$$\\implies \\mu=0$$"
   ]
  },
  {
   "cell_type": "markdown",
   "metadata": {},
   "source": [
    "$$\\implies h(r)=\\int_{-\\infty}^\\infty dr\\,e^{\\lambda}e^{-\\mu r}e^{-\\nu(r-\\langle r \\rangle)^2}(r-\\langle r\\rangle)^2=\\frac{\\mu^2+2\\nu}{4\\mu^2}e^\\lambda\\sqrt{\\frac{\\pi}{\\nu}}e^\\frac{\\mu^2}{4\\nu}e^{-\\mu\\langle r\\rangle}=\\frac{1}{2\\nu}=\\sigma^2$$\n",
    "$$\\implies \\nu=\\frac{1}{2\\sigma^2}$$"
   ]
  },
  {
   "cell_type": "markdown",
   "metadata": {},
   "source": [
    "$$\\implies e^\\lambda\\sqrt{\\frac{\\pi}{\\nu}}e^\\frac{\\mu^2}{4\\nu}e^{-\\mu\\langle r\\rangle}=e^\\lambda\\sqrt{2\\pi\\sigma^2}=1$$\n",
    "$$\\implies e^\\lambda=\\frac{1}{\\sigma\\sqrt{2\\pi}}$$"
   ]
  },
  {
   "cell_type": "markdown",
   "metadata": {},
   "source": [
    "$$\\implies p[r]=\\boxed{ \\frac{1}{\\sigma\\sqrt{2\\pi}}e^{-\\frac{1}{2}\\left(\\frac{r-\\langle r\\rangle}{\\sigma}\\right)^2} }$$"
   ]
  },
  {
   "cell_type": "markdown",
   "metadata": {},
   "source": [
    "Notice that\n",
    "\n",
    "$$\\log_2p[r]=\\log_2\\left(\\frac{1}{\\sigma\\sqrt{2\\pi}}e^{-\\frac{1}{2}\\left(\\frac{r-\\langle r\\rangle}{\\sigma}\\right)^2}\\right)=\\log_2\\frac{1}{\\sigma\\sqrt{2\\pi}}-\\frac{\\log_2 e}{2\\sigma^2}(r-\\langle r\\rangle)^2$$"
   ]
  },
  {
   "cell_type": "markdown",
   "metadata": {},
   "source": [
    "$$\\implies H=-\\log_2\\frac{\\Delta r}{\\sigma\\sqrt{2\\pi}}+\\frac{\\log_2 e}{2\\sigma^2}\\sum p[r]\\Delta r(r-\\langle r\\rangle)^2=-\\log_2\\frac{\\Delta r}{\\sigma\\sqrt{2\\pi}}+\\frac{\\log_2 e}{2}$$"
   ]
  },
  {
   "cell_type": "markdown",
   "metadata": {},
   "source": [
    "$$=\\boxed{ \\frac{1}{2}\\log_2\\left(\\frac{e2\\pi\\sigma^2}{\\Delta r^2}\\right) }$$"
   ]
  },
  {
   "cell_type": "markdown",
   "metadata": {},
   "source": [
    "## Problem 4\n",
    "\n",
    "Using Fourier transforms and equation 4.36\n",
    "\n",
    "$$Q_{LL}(\\vec{a},\\vec{b})=\\langle L_s(\\vec{a})L_s(\\vec{b})\\rangle=\\int d\\vec{x}d\\vec{y}D_s(\\vec{x}-\\vec{a})D_s(\\vec{y}-\\vec{b})\\langle s_s(\\vec{x})s_s(\\vec{y})\\rangle$$\n",
    "\n",
    "solve equation 4.37\n",
    "\n",
    "$$Q_{LL}(\\vec{a},\\vec{b})=\\sigma_L^2\\delta(\\vec{a}-\\vec{b})$$\n",
    "\n",
    "to obtain equation 4.42\n",
    "\n",
    "$$|\\tilde{D}_s\\left(\\vec{\\kappa}\\right)|=\\frac{\\sigma_L}{\\sqrt{\\tilde{Q}_{ss}\\left(\\vec{\\kappa}\\right)}}$$"
   ]
  },
  {
   "cell_type": "markdown",
   "metadata": {},
   "source": [
    "### Solution\n",
    "\n",
    "As given in the text, the assumption of translational invariance of stimuli in space and time means that $\\langle s_s(\\vec{x})s_s(\\vec{y})\\rangle$ depends only on the distance between $\\vec{x}$ and $\\vec{y}$.\n",
    "\n",
    "$$\\implies \\langle s_s(\\vec{x})s_s(\\vec{y})\\rangle=Q_{ss}(\\vec{x}-\\vec{y})$$\n",
    "$$\\implies Q_{LL}(\\vec{a},\\vec{b})=\\int d\\vec{x}d\\vec{y}D_s(\\vec{x}-\\vec{a})D_s(\\vec{y}-\\vec{b})\\langle s_s(\\vec{x})s_s(\\vec{y})\\rangle=\\int d\\vec{x}d\\vec{y}D_s(\\vec{x}-\\vec{a})D_s(\\vec{y}-\\vec{b})Q_{ss}(\\vec{x}-\\vec{y})=\\sigma_L^2\\delta(\\vec{a}-\\vec{b})$$"
   ]
  },
  {
   "cell_type": "markdown",
   "metadata": {},
   "source": [
    "Now, by replacing $D_s$ and $Q_{ss}$ with their Fourier transformations, we obtain\n",
    "\n",
    "$$\\left(\\frac{1}{4\\pi^2}\\right)^3\\int d\\vec{x}d\\vec{y}\\left(\\int d\\vec{\\kappa}\\, \\exp\\left(-i\\vec{\\kappa}\\cdot(\\vec{x}-\\vec{a})\\right)\\tilde{D}_s(\\vec{\\kappa})\\right)\\left(\\int d\\vec{\\kappa}\\, \\exp\\left(-i\\vec{\\kappa}\\cdot(\\vec{y}-\\vec{b})\\right)\\tilde{D}_s(\\vec{\\kappa})\\right)\\left(\\int d\\vec{\\kappa}\\, \\exp\\left(-i\\vec{\\kappa}\\cdot(\\vec{x}-\\vec{y})\\right)\\tilde{Q}_{ss}(\\vec{\\kappa})\\right)=\\sigma_L^2\\delta(\\vec{a}-\\vec{b})$$"
   ]
  },
  {
   "cell_type": "markdown",
   "metadata": {},
   "source": [
    "Finally, the result can be obtained by taking the Fourier transform of both sides, distributing it through the convolution of the left-hand side, and using the fact that the Fourier transform of the delta function is 1\n",
    "\n",
    "$$|\\tilde{D}_s(\\vec{\\kappa})|^2\\tilde{Q}_{ss}(\\vec{\\kappa})=\\sigma_L^2\\int d\\vec{c}\\,\\delta(\\vec{c})e^{-i\\vec{\\kappa}\\vec{c}}=\\sigma_L^2$$"
   ]
  },
  {
   "cell_type": "markdown",
   "metadata": {},
   "source": [
    "## Problem 5\n",
    "\n",
    "Suppose the filter $L_s\\left(\\vec{a}\\right)$ has a correlation function that satisfies equation 4.37\n",
    "\n",
    "$$Q_{LL}(\\vec{a},\\vec{b})=\\sigma_L^2\\delta(\\vec{a}-\\vec{b})$$\n",
    "\n",
    "Consider a new filter constructed in terms of this old one by writing\n",
    "\n",
    "$$L_s'(\\vec a)=\\int d\\vec{c} U(\\vec{a},\\vec{c})L_s(\\vec{c})$$\n",
    "\n",
    "Show that if $U(\\vec{a},\\vec{c})$ satisfies the condition of an orthogonal transformation,\n",
    "\n",
    "$$\\int d\\vec{c}U(\\vec{a},\\vec{c})U(\\vec{b},\\vec{c})=\\delta(\\vec{a}-\\vec{b})$$\n",
    "\n",
    "the correlation function for this new filter also satisfies equation 4.37."
   ]
  },
  {
   "cell_type": "markdown",
   "metadata": {},
   "source": [
    "### Solution\n",
    "\n",
    "$$L'_s(\\vec{a})=\\int d\\vec{c} U(\\vec{a},\\vec{c})L_s(\\vec{c})=\\int d\\vec{c}\\,U(\\vec{a},\\vec{c})\\int d\\vec{x}\\,D_s(\\vec{x}-\\vec{c})s_s(\\vec{x})$$"
   ]
  },
  {
   "cell_type": "markdown",
   "metadata": {},
   "source": [
    "$$\\implies Q_{L'L'}(\\vec{a},\\vec{b})=\\int d\\vec{c}\\,U(\\vec{a},\\vec{c})U(\\vec{b},\\vec{c})\\int d\\vec{x}d\\vec{y}\\,D_s(\\vec{x}-\\vec{c})D_s(\\vec{y}-\\vec{c})\\langle s_s(\\vec{x})s_s(\\vec{y})\\rangle=\\int d\\vec{c}\\,U(\\vec{a},\\vec{c})U(\\vec{b},\\vec{c})\\left(\\sigma_L^2\\delta(\\vec{c}-\\vec{c})\\right)$$\n",
    "$$=\\sigma_L^2\\int d\\vec{c}\\,U(\\vec{a},\\vec{c})U(\\vec{b},\\vec{c})=\\sigma_L^2\\delta(\\vec{a}-\\vec{b})$$"
   ]
  },
  {
   "cell_type": "markdown",
   "metadata": {},
   "source": [
    "## Problem 6\n",
    "\n",
    "Consider a stimulus $s_r = s_s + \\eta$ that is given by the sum of a true stimulus $s_s$ and a noise term $\\eta$. Values of the true stimulus $s_s$ are drawn from a Gaussian distribution with mean 0 and variance $Q_{ss}$. Values of the noise term $\\eta$ are also obtained from a Gaussian distribution, with mean 0 and variance $Q_{\\eta\\eta}$. The two terms $\\eta$ and $s_s$ are independent of each other. Using the formula for the continuous entropy of a Gaussian random variable calculated in problem 3, calculate the mutual information between $s_r$ and $s_s$."
   ]
  },
  {
   "cell_type": "markdown",
   "metadata": {},
   "source": [
    "### Solution\n",
    "\n",
    "Since $s_s$ and $\\eta$ are independent Gaussian random variables, $s_r$ is also a Gaussian random variables with mean 0 and variance $Q_{ss}+Q_{\\eta\\eta}$. ,\n",
    "\n",
    "$$I_m=H-H_\\text{noise}=\\frac{1}{2}\\log_2\\frac{e2\\pi(Q_{ss}+Q_{\\eta\\eta})}{\\Delta r^2}-\\frac{1}{2}\\log_2\\frac{e2\\pi Q_{\\eta\\eta}}{\\Delta r^2}=\\frac{1}{2}\\log_2\\frac{Q_{ss}+Q_{\\eta\\eta}}{Q_{\\eta\\eta}}\n",
    "=\\boxed{ \\frac{1}{2}\\log_2\\left(1+\\frac{Q_{ss}}{Q_{\\eta\\eta}}\\right) }$$"
   ]
  },
  {
   "cell_type": "markdown",
   "metadata": {},
   "source": [
    "## Problem 7\n",
    "\n",
    "Consider a multivariate signal $s_s$ drawn from a Gaussian distribution with mean 0 and covariance matrix $Q_{ss}$. Compute the continuous entropy of $\\textbf{s}$ in terms of the eigenvalues of $Q_{ss}$, up to the usual resolution term for a continuous entropy."
   ]
  },
  {
   "cell_type": "markdown",
   "metadata": {},
   "source": [
    "### Solution\n",
    "\n",
    "The pdf of a multivariate Gaussian distribution with $k$ variables with mean 0 is given by\n",
    "\n",
    "$$p[x]=\\frac{\\exp\\left(-\\frac{1}{2}x^\\text{T}Q_{ss}^{-1}x\\right)}{\\sqrt{(2\\pi)^k \\det Q_{ss}}}$$"
   ]
  },
  {
   "cell_type": "markdown",
   "metadata": {},
   "source": [
    "$$\\implies \\lim_{\\Delta r \\rightarrow 0}\\left\\{H+\\log_2\\Delta r\\right\\}=-\\int dx\\,p[x]\\log_2p[x]$$\n",
    "$$=-\\log_2\\left(\\frac{1}{\\sqrt{(2\\pi)^k \\det Q_{ss}}}\\right)\\int dx\\,p[x]-\\log_2e\\int dx\\,p[x]\\left(-\\frac{1}{2}x^\\text{T}Q_{ss}^{-1}x\\right)$$\n",
    "$$=\\frac{1}{2}\\log_2\\left((2\\pi)^k\\det Q_{ss}\\right)+\\frac{\\log_2e}{2}\\int dx\\,p[x]x^\\text{T}Q_{ss}^{-1}x$$"
   ]
  },
  {
   "cell_type": "markdown",
   "metadata": {},
   "source": [
    "Since $$x^\\text{T}Q_{ss}^{-1}x$$ is a 1x1 matrix, we can use the trace trick:\n",
    "\n",
    "$$\\int dx\\,p[x]x^\\text{T}Q_{ss}^{-1}x=\\int dx\\,p[x]\\text{tr}[x^\\text{T}Q_{ss}^{-1}x]=\\int dx\\,p[x]\\text{tr}[Q_{ss}^{-1}xx^\\text{T}]=\\text{tr}\\left[Q_{ss}^{-1}\\int dx\\,p[x]xx^\\text{T}\\right]=\\text{tr}[Q_{ss}^{-1}Q_{ss}]=\\text{tr}[I_k]=k$$"
   ]
  },
  {
   "cell_type": "markdown",
   "metadata": {},
   "source": [
    "$$\\implies \\lim_{\\Delta r \\rightarrow 0}\\left\\{H+\\log_2\\Delta r\\right\\}=\\frac{1}{2}\\log_2\\left((2\\pi)^k\\det Q_{ss}\\right)+\\frac{\\log_2e}{2}k\n",
    "=\\boxed{ \\frac{1}{2}\\left(k\\log_2\\left(2\\pi e\\right)+\\sum_{i=1}^{k}\\log_2e_i\\right) }$$\n",
    "\n",
    "Where $e_i$ is the $i$th eigenvalue of $Q_{ss}$."
   ]
  },
  {
   "cell_type": "markdown",
   "metadata": {},
   "source": [
    "## Problem 8\n",
    "\n",
    "Suppose that a stimulus at one point on the retina, and at a given time, $s_r = s_s + \\eta$, is the sum of a true stimulus $s_s$ and a noise term $\\eta$, as in problem 6. Model the retinal processing at this particular location as producing a signal at the thalamus\n",
    "\n",
    "$$s_l = D_s s_r + \\eta_l$$\n",
    "\n",
    "where $D_s$ is a parameter called the transfer constant, and $\\eta_l$ represents an additional, independent source of noise that can be modeled as being drawn from a Gaussian distribution with mean 0 and variance $Q_{\\eta_l\\eta_l}$. Calculate the mutual information $I_l$ between $s_l$ and $s_s$ as a function of $D_s$. The power of the signal produced by the retina is defined as $P_r = \\left\\langle\\left(D_s s_r\\right)^2\\right\\rangle$. By maximizing\n",
    "\n",
    "$$I_l - kP_r$$\n",
    "\n",
    "as a function of $D_s$, find the transfer constant that maximizes the mutual information for a given value of k (with k > 0), a parameter that controls the trade-off between information and power. What happens when $Q_{ss}$, describing the visual signal, gets much smaller than $Q_{\\eta\\eta}$?"
   ]
  },
  {
   "cell_type": "markdown",
   "metadata": {},
   "source": [
    "### Solution\n",
    "\n",
    "Since $s_r$ and $\\eta_l$ are both Gaussian random variables with mean 0, $s_l$ is also a Gaussian random variable with mean 0 and variance\n",
    "\n",
    "$$Q_{ll}=D_s^2Q_{rr}+Q_{\\eta_l\\eta_l}=D_s^2(Q_{ss}+Q_{\\eta\\eta})+Q_{\\eta_l\\eta_l}$$\n",
    "\n",
    "In other words, the signal has a variance $D_s^2Q_{ss}$ and the noise a variance of $D_s^2Q_{\\eta\\eta}+Q_{\\eta_l\\eta_l}$. Therefore, by analogy with problem 6,\n",
    "\n",
    "$$I_l=\\boxed{ \\frac{1}{2}\\log_2\\left(1+\\frac{D_s^2Q_{ss}}{D_s^2Q_{\\eta\\eta}+Q_{\\eta_l\\eta_l}}\\right) }$$"
   ]
  },
  {
   "cell_type": "markdown",
   "metadata": {},
   "source": [
    "As for the power,\n",
    "\n",
    "$$P_r=\\langle(D_ss_r)^2\\rangle=\\int_{-\\infty}^{\\infty}ds\\,p_r[s](D_ss)^2=\\frac{D_s^2}{\\sqrt{Q_{ss}+Q_{\\eta\\eta}}\\sqrt{2\\pi}}\\int_{-\\infty}^{\\infty}ds\\,\\exp\\left(-\\frac{1}{2}\\frac{s^2}{Q_{ss}+Q{\\eta\\eta}}\\right)s^2=\\frac{D_s^2}{8(Q_{ss}+Q_{\\eta\\eta})^2}$$"
   ]
  },
  {
   "cell_type": "markdown",
   "metadata": {},
   "source": [
    "Now, by setting $\\frac{d}{dD_s}(I_l-kP_r)=0$, we get... a complicated quadratic equation in $D_s^2$, with roots\n",
    "\n",
    "$$D_s^2=\\frac{-(Q_{ss}+2Q_{\\eta\\eta}Q_{\\eta_l\\eta_l})\\pm\\sqrt{(Q_{ss}+2Q_{\\eta\\eta}Q_{\\eta_l\\eta_l})^2-4Q_{\\eta\\eta}(Q_{ss}+Q_{\\eta\\eta})(Q_{\\eta_l\\eta_l}^2-\\frac{4\\log_2e}{k}Q_{ss}Q_{\\eta_l\\eta_l}(Q_{ss}+Q_{\\eta\\eta})^2)}}{2Q_{\\eta\\eta}(Q_{ss}+Q_{\\eta\\eta})}$$\n",
    "\n",
    "So... yeah. Since $D_s \\ge 0$, finding the roots for $D_s^2$ also uniquely determines the roots for $D_s$."
   ]
  },
  {
   "cell_type": "markdown",
   "metadata": {},
   "source": [
    "It looks like as $Q_{ss}\\rightarrow 0$, the term inside the root vanishes and $D_s\\rightarrow \\sqrt{Q_{\\eta_l\\eta_l}/Q_{\\eta\\eta}}$."
   ]
  },
  {
   "cell_type": "markdown",
   "metadata": {},
   "source": [
    "## Problem 9\n",
    "\n",
    "Consider two independent inputs $s$ and $s'$ drawn from Gaussian distributions with means 0 and with different variances $Q_{ss}$ and $Q_{s's'}$. These generate two thalamic signals, as in exercise 8.\n",
    "\n",
    "$$s_l = D_s s + \\eta \\text{ and } s_l' = D_{s'}s' + \\eta'$$\n",
    "\n",
    "defined by two separate transfer constants, $D_s$ and $D_{s'}$, and two independent noise terms with variances $Q_{\\eta\\eta}$ and $Q_{\\eta'\\eta'}$. Find the transfer constants that maximize the total mutual information $I_l + I_l'$ for a fixed total power $P_r + P_r'$, where the non-primes and primes denote the information and power for $s_l$ and $s_l'$, respectively."
   ]
  },
  {
   "cell_type": "markdown",
   "metadata": {},
   "source": [
    "### Solution\n",
    "\n",
    "If the total power is being held fixed, this would seems to be a Lagrange multiplier problem:\n",
    "\n",
    "$$\\nabla(I_l+I_l')-\\lambda\\nabla(P_r+P_r')=0$$\n",
    "$$P_r+P_r'=c$$"
   ]
  },
  {
   "cell_type": "markdown",
   "metadata": {},
   "source": [
    "### TODO"
   ]
  },
  {
   "cell_type": "code",
   "execution_count": null,
   "metadata": {},
   "outputs": [],
   "source": []
  }
 ],
 "metadata": {
  "kernelspec": {
   "display_name": "Octave",
   "language": "octave",
   "name": "octave"
  },
  "language_info": {
   "file_extension": ".m",
   "help_links": [
    {
     "text": "GNU Octave",
     "url": "https://www.gnu.org/software/octave/support.html"
    },
    {
     "text": "Octave Kernel",
     "url": "https://github.com/Calysto/octave_kernel"
    },
    {
     "text": "MetaKernel Magics",
     "url": "https://metakernel.readthedocs.io/en/latest/source/README.html"
    }
   ],
   "mimetype": "text/x-octave",
   "name": "octave",
   "version": "4.2.2"
  }
 },
 "nbformat": 4,
 "nbformat_minor": 4
}
